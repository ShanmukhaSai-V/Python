{
  "nbformat": 4,
  "nbformat_minor": 0,
  "metadata": {
    "colab": {
      "provenance": []
    },
    "kernelspec": {
      "name": "python3",
      "display_name": "Python 3"
    },
    "language_info": {
      "name": "python"
    }
  },
  "cells": [
    {
      "cell_type": "code",
      "execution_count": 1,
      "metadata": {
        "colab": {
          "base_uri": "https://localhost:8080/"
        },
        "id": "NyVtUl1WqSmv",
        "outputId": "e1040920-06d3-4ad9-af3a-46d7196d7016"
      },
      "outputs": [
        {
          "output_type": "stream",
          "name": "stdout",
          "text": [
            "Total price of Mobile is 90000.0\n",
            "Total price of Shoe is 1800.0\n"
          ]
        }
      ],
      "source": [
        "def purchase_product(product_type,price):\n",
        "  discount = 10\n",
        "  total_price = price - price*discount/100\n",
        "  print(f\"Total price of {product_type} is {total_price}\")\n",
        "\n",
        "purchase_product(\"Mobile\",100000)\n",
        "purchase_product(\"Shoe\",2000)\n"
      ]
    },
    {
      "cell_type": "code",
      "source": [
        "def purchase_product(product_type,price,mobile_brand = None):\n",
        "  if product_type == \"Mobile\":\n",
        "    if mobile_brand == \"Apple\":\n",
        "      discount = 10\n",
        "    elif mobile_brand == \"Samsung\":\n",
        "      discount = 5\n",
        "    else:\n",
        "      discount = 0\n",
        "  elif product_type == \"Shoe\":\n",
        "    discount = 5\n",
        "  else:\n",
        "    discount = 10\n",
        "  total_price = price - price*discount/100\n",
        "  print(f\"Total price of {mobile_brand} {product_type} is {total_price}\")\n",
        "\n",
        "purchase_product(\"Mobile\",100000,\"Apple\")\n",
        "purchase_product(\"Shoe\",2000)\n",
        "purchase_product(\"Mobile\",70000,\"Samsung\")"
      ],
      "metadata": {
        "colab": {
          "base_uri": "https://localhost:8080/"
        },
        "id": "SI8b3Un2qjWX",
        "outputId": "af73802e-f5b9-4835-89c3-d33023ae1f69"
      },
      "execution_count": 2,
      "outputs": [
        {
          "output_type": "stream",
          "name": "stdout",
          "text": [
            "Total price of Apple Mobile is 90000.0\n",
            "Total price of None Shoe is 1900.0\n",
            "Total price of Samsung Mobile is 66500.0\n"
          ]
        }
      ]
    },
    {
      "cell_type": "code",
      "source": [
        "total_price_mobile = 0\n",
        "total_price_shoe = 0\n",
        "def purchase_mobile(price,brand):\n",
        "    global total_price_mobile\n",
        "    if brand == \"Apple\":\n",
        "        discount = 10\n",
        "    else:\n",
        "        discount = 5\n",
        "    total_price_mobile = price - price * discount / 100\n",
        "    print(\"Total price for Mobile is \"+str(total_price_mobile))\n",
        "def purchase_shoe(price,material):\n",
        "    global total_price_shoe\n",
        "    if material == \"leather\":\n",
        "        tax = 5\n",
        "    else:\n",
        "        tax = 2\n",
        "    total_price_shoe = price + price * tax / 100\n",
        "    print(\"Total price for Shoe is \"+str(total_price_shoe))\n",
        "def return_mobile():\n",
        "    print(\"Refund price for Mobile is \",total_price_mobile)\n",
        "def return_shoe():\n",
        "    print(\"Refund price for Shoe is \",total_price_shoe)\n",
        "purchase_mobile(20000,\"Apple\")\n",
        "purchase_shoe(200,\"leather\")\n",
        "return_mobile()\n",
        "\n",
        "total_price_mobile = 0\n",
        "total_price_shoe = 0\n",
        "def purchase_mobile(price,brand):\n",
        "    global total_price_mobile\n",
        "    if brand == \"Apple\":\n",
        "        discount = 10\n",
        "    else:\n",
        "        discount = 5\n",
        "    total_price_mobile = price - price * discount / 100\n",
        "    print(\"Total price for Mobile is \"+str(total_price_mobile))\n",
        "def purchase_shoe(price,material):\n",
        "    global total_price_shoe\n",
        "    if material == \"leather\":\n",
        "        tax = 5\n",
        "    else:\n",
        "        tax = 2\n",
        "    total_price_shoe = price + price * tax / 100\n",
        "    print(\"Total price for Shoe is \"+str(total_price_shoe))\n",
        "def return_mobile():\n",
        "    print(\"Refund price for Mobile is \",total_price_mobile)\n",
        "def return_shoe():\n",
        "    print(\"Refund price for Shoe is \",total_price_shoe)\n",
        "purchase_mobile(20000,\"Apple\")\n",
        "purchase_shoe(200,\"leather\")\n",
        "purchase_mobile(2000,\"Samsung\")\n",
        "return_mobile()\n",
        "\n",
        "class Mobile:\n",
        "    def __init__(self, brand, price):\n",
        "        print(\"Inside constructor\")\n",
        "        self.brand = brand\n",
        "        self.price = price\n",
        "mob1=Mobile(\"Apple\", 20000)\n",
        "print(\"Mobile 1 has brand\", mob1.brand, \"and price\", mob1.price)\n",
        "mob2=Mobile(\"Samsung\",3000)\n",
        "print(\"Mobile 2 has brand\", mob2.brand, \"and price\", mob2.price)\n",
        "\n",
        "class Mobile:\n",
        "    def __init__(self, brand, price):\n",
        "        print(\"Inside constructor\")\n",
        "        self.brand = brand\n",
        "        self.price = price\n",
        "    def purchase(self):\n",
        "        print(\"Purchasing a mobile\")\n",
        "        print(\"This mobile has brand\", self.brand, \"and price\", self.price)\n",
        "print(\"Mobile-1\")\n",
        "mob1=Mobile(\"Apple\", 20000)\n",
        "mob1.purchase()\n",
        "print(\"Mobile-2\")\n",
        "mob2=Mobile(\"Samsung\",3000)\n",
        "mob2.purchase()\n"
      ],
      "metadata": {
        "id": "A7KJ29MFrxHP",
        "colab": {
          "base_uri": "https://localhost:8080/"
        },
        "outputId": "f759a5b7-7445-4c47-d0ae-8513ac180aaa"
      },
      "execution_count": 3,
      "outputs": [
        {
          "output_type": "stream",
          "name": "stdout",
          "text": [
            "Total price for Mobile is 18000.0\n",
            "Total price for Shoe is 210.0\n",
            "Refund price for Mobile is  18000.0\n",
            "Total price for Mobile is 18000.0\n",
            "Total price for Shoe is 210.0\n",
            "Total price for Mobile is 1900.0\n",
            "Refund price for Mobile is  1900.0\n",
            "Inside constructor\n",
            "Mobile 1 has brand Apple and price 20000\n",
            "Inside constructor\n",
            "Mobile 2 has brand Samsung and price 3000\n",
            "Mobile-1\n",
            "Inside constructor\n",
            "Purchasing a mobile\n",
            "This mobile has brand Apple and price 20000\n",
            "Mobile-2\n",
            "Inside constructor\n",
            "Purchasing a mobile\n",
            "This mobile has brand Samsung and price 3000\n"
          ]
        }
      ]
    }
  ]
}